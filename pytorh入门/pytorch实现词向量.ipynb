{
 "cells": [
  {
   "cell_type": "code",
   "execution_count": 1,
   "metadata": {
    "collapsed": true
   },
   "outputs": [],
   "source": [
    "import torch\n",
    "import torch.nn as nn\n",
    "import torch.nn.functional as F\n",
    "import torch.utils.data as tud\n",
    "from collections import Counter\n",
    "import numpy as np\n",
    "import random\n",
    "import math\n",
    "\n",
    "import pandas as pd\n",
    "import scipy\n",
    "import sklearn\n",
    "from  sklearn.metrics.pairwise import cosine_similarity"
   ]
  },
  {
   "cell_type": "code",
   "execution_count": 2,
   "metadata": {},
   "outputs": [],
   "source": [
    "random.seed(1)\n",
    "np.random.seed(1)\n",
    "torch.manual_seed(1)\n",
    "C=3  # context window\n",
    "K=100 #number of negative samples\n",
    "NUM_EPOCHS=2\n",
    "MAX_VOCAB_SIZE=30000\n",
    "BATCH_SIZE=128\n",
    "LEARNING_RATE=0.2\n",
    "EMSEDDING_SIZE=100\n",
    "\n",
    "def word_tokenize(text):\n",
    "    return text.split()"
   ]
  },
  {
   "cell_type": "code",
   "execution_count": 3,
   "metadata": {},
   "outputs": [],
   "source": [
    "with open(\"text8/text8.train.txt\",\"r\") as fin:\n",
    "    text=fin.read()\n",
    "text=text.split()\n",
    "vocab=dict(Counter(text).most_common(MAX_VOCAB_SIZE-1))\n",
    "vocab[\"<unk>\"]=len(text)-np.sum(list(vocab.values()))"
   ]
  },
  {
   "cell_type": "code",
   "execution_count": 4,
   "metadata": {
    "collapsed": true
   },
   "outputs": [],
   "source": [
    "idx_to_word=[word for word in vocab.keys()]\n",
    "word_to_idx={word:i for i,word in enumerate(idx_to_word)} #按出现次数进行了排序"
   ]
  },
  {
   "cell_type": "code",
   "execution_count": 6,
   "metadata": {
    "collapsed": true
   },
   "outputs": [
    {
     "data": {
      "text/plain": [
       "30000"
      ]
     },
     "execution_count": 6,
     "metadata": {},
     "output_type": "execute_result"
    }
   ],
   "source": [
    "word_counts=np.array([count for count in vocab.values()],dtype=np.float32)\n",
    "word_freqs=word_counts/np.sum(word_counts)\n",
    "word_freqs=word_freqs**(3./4.)\n",
    "word_freqs=word_counts/np.sum(word_counts)\n",
    "VOCAB_SIZE=len(idx_to_word)\n",
    "VOCAB_SIZE"
   ]
  },
  {
   "cell_type": "code",
   "execution_count": 5,
   "metadata": {
    "collapsed": true
   },
   "outputs": [
    {
     "data": {
      "text/plain": [
       "[('the', 0),\n ('of', 1),\n ('and', 2),\n ('one', 3),\n ('in', 4),\n ('a', 5),\n ('to', 6),\n ('zero', 7),\n ('nine', 8),\n ('two', 9),\n ('is', 10),\n ('as', 11),\n ('eight', 12),\n ('for', 13),\n ('s', 14),\n ('five', 15),\n ('three', 16),\n ('was', 17),\n ('by', 18),\n ('that', 19),\n ('four', 20),\n ('six', 21),\n ('seven', 22),\n ('with', 23),\n ('on', 24),\n ('are', 25),\n ('it', 26),\n ('from', 27),\n ('or', 28),\n ('his', 29),\n ('an', 30),\n ('be', 31),\n ('this', 32),\n ('he', 33),\n ('at', 34),\n ('which', 35),\n ('not', 36),\n ('also', 37),\n ('have', 38),\n ('were', 39),\n ('has', 40),\n ('but', 41),\n ('other', 42),\n ('their', 43),\n ('its', 44),\n ('first', 45),\n ('they', 46),\n ('had', 47),\n ('some', 48),\n ('more', 49),\n ('all', 50),\n ('can', 51),\n ('most', 52),\n ('been', 53),\n ('such', 54),\n ('who', 55),\n ('many', 56),\n ('new', 57),\n ('there', 58),\n ('used', 59),\n ('after', 60),\n ('american', 61),\n ('when', 62),\n ('time', 63),\n ('into', 64),\n ('these', 65),\n ('only', 66),\n ('see', 67),\n ('may', 68),\n ('than', 69),\n ('i', 70),\n ('world', 71),\n ('b', 72),\n ('d', 73),\n ('would', 74),\n ('no', 75),\n ('however', 76),\n ('between', 77),\n ('about', 78),\n ('over', 79),\n ('states', 80),\n ('years', 81),\n ('war', 82),\n ('people', 83),\n ('united', 84),\n ('during', 85),\n ('known', 86),\n ('if', 87),\n ('called', 88),\n ('use', 89),\n ('th', 90),\n ('often', 91),\n ('system', 92),\n ('so', 93),\n ('history', 94),\n ('state', 95),\n ('will', 96),\n ('up', 97),\n ('while', 98),\n ('where', 99)]"
      ]
     },
     "execution_count": 5,
     "metadata": {},
     "output_type": "execute_result"
    }
   ],
   "source": [
    "list(word_to_idx.items())[:100]"
   ]
  },
  {
   "cell_type": "code",
   "execution_count": 18,
   "metadata": {
    "collapsed": true
   },
   "outputs": [
    {
     "data": {
      "text/plain": [
       "617111"
      ]
     },
     "execution_count": 18,
     "metadata": {},
     "output_type": "execute_result"
    }
   ],
   "source": [
    "vocab[\"<unk>\"]"
   ]
  },
  {
   "cell_type": "code",
   "execution_count": 30,
   "metadata": {
    "collapsed": true
   },
   "outputs": [
    {
     "data": {
      "text/plain": [
       "{'the': 0,\n 'of': 1,\n 'and': 2,\n 'one': 3,\n 'in': 4,\n 'a': 5,\n 'to': 6,\n 'zero': 7,\n 'nine': 8,\n 'two': 9,\n 'is': 10,\n 'as': 11,\n 'eight': 12,\n 'for': 13,\n 's': 14,\n 'five': 15,\n 'three': 16,\n 'was': 17,\n 'by': 18,\n 'that': 19,\n 'four': 20,\n 'six': 21,\n 'seven': 22,\n 'with': 23,\n 'on': 24,\n 'are': 25,\n 'it': 26,\n 'from': 27,\n 'or': 28,\n 'his': 29,\n 'an': 30,\n 'be': 31,\n 'this': 32,\n 'he': 33,\n 'at': 34,\n 'which': 35,\n 'not': 36,\n 'also': 37,\n 'have': 38,\n 'were': 39,\n 'has': 40,\n 'but': 41,\n 'other': 42,\n 'their': 43,\n 'its': 44,\n 'first': 45,\n 'they': 46,\n 'had': 47,\n 'some': 48,\n 'more': 49,\n 'all': 50,\n 'can': 51,\n 'most': 52,\n 'been': 53,\n 'such': 54,\n 'who': 55,\n 'many': 56,\n 'new': 57,\n 'there': 58,\n 'used': 59,\n 'after': 60,\n 'american': 61,\n 'when': 62,\n 'time': 63,\n 'into': 64,\n 'these': 65,\n 'only': 66,\n 'see': 67,\n 'may': 68,\n 'than': 69,\n 'i': 70,\n 'world': 71,\n 'b': 72,\n 'd': 73,\n 'would': 74,\n 'no': 75,\n 'however': 76,\n 'between': 77,\n 'about': 78,\n 'over': 79,\n 'states': 80,\n 'years': 81,\n 'war': 82,\n 'people': 83,\n 'united': 84,\n 'during': 85,\n 'known': 86,\n 'if': 87,\n 'called': 88,\n 'use': 89,\n 'th': 90,\n 'often': 91,\n 'system': 92,\n 'so': 93,\n 'history': 94,\n 'state': 95,\n 'will': 96,\n 'up': 97,\n 'while': 98,\n 'where': 99,\n 'english': 100,\n 'city': 101,\n 'being': 102,\n 'then': 103,\n 'any': 104,\n 'under': 105,\n 'out': 106,\n 'both': 107,\n 'made': 108,\n 'e': 109,\n 'well': 110,\n 'them': 111,\n 'government': 112,\n 'number': 113,\n 'later': 114,\n 'him': 115,\n 'her': 116,\n 'c': 117,\n 'since': 118,\n 'century': 119,\n 'name': 120,\n 'part': 121,\n 'british': 122,\n 'through': 123,\n 'because': 124,\n 'university': 125,\n 'life': 126,\n 'early': 127,\n 'x': 128,\n 'm': 129,\n 'like': 130,\n 'year': 131,\n 'same': 132,\n 'became': 133,\n 'day': 134,\n 'including': 135,\n 'each': 136,\n 'example': 137,\n 'work': 138,\n 'even': 139,\n 'language': 140,\n 'john': 141,\n 'although': 142,\n 'form': 143,\n 'several': 144,\n 'national': 145,\n 'g': 146,\n 'much': 147,\n 'very': 148,\n 'general': 149,\n 'u': 150,\n 'before': 151,\n 'what': 152,\n 'french': 153,\n 'against': 154,\n 't': 155,\n 'links': 156,\n 'high': 157,\n 'those': 158,\n 'n': 159,\n 'now': 160,\n 'could': 161,\n 'second': 162,\n 'based': 163,\n 'great': 164,\n 'another': 165,\n 'german': 166,\n 'do': 167,\n 'de': 168,\n 'external': 169,\n 'large': 170,\n 'modern': 171,\n 'list': 172,\n 'major': 173,\n 'f': 174,\n 'different': 175,\n 'common': 176,\n 'south': 177,\n 'series': 178,\n 'king': 179,\n 'power': 180,\n 'set': 181,\n 'long': 182,\n 'country': 183,\n 'she': 184,\n 'until': 185,\n 'still': 186,\n 'law': 187,\n 'music': 188,\n 'group': 189,\n 'north': 190,\n 'game': 191,\n 'book': 192,\n 'film': 193,\n 'term': 194,\n 'found': 195,\n 'we': 196,\n 'end': 197,\n 'order': 198,\n 'political': 199,\n 'party': 200,\n 'own': 201,\n 'church': 202,\n 'president': 203,\n 'international': 204,\n 'usually': 205,\n 'death': 206,\n 'you': 207,\n 'god': 208,\n 'ii': 209,\n 'area': 210,\n 'around': 211,\n 'theory': 212,\n 'did': 213,\n 'include': 214,\n 'way': 215,\n 'though': 216,\n 'small': 217,\n 'using': 218,\n 'following': 219,\n 'left': 220,\n 'military': 221,\n 'human': 222,\n 'point': 223,\n 'within': 224,\n 'among': 225,\n 'p': 226,\n 'non': 227,\n 'main': 228,\n 'population': 229,\n 'r': 230,\n 'public': 231,\n 'considered': 232,\n 'due': 233,\n 'family': 234,\n 'west': 235,\n 'computer': 236,\n 'east': 237,\n 'right': 238,\n 'information': 239,\n 'popular': 240,\n 'important': 241,\n 'sometimes': 242,\n 'man': 243,\n 'old': 244,\n 'european': 245,\n 'roman': 246,\n 'without': 247,\n 'last': 248,\n 'members': 249,\n 'us': 250,\n 'given': 251,\n 'word': 252,\n 'times': 253,\n 'h': 254,\n 'free': 255,\n 'make': 256,\n 'age': 257,\n 'science': 258,\n 'place': 259,\n 'house': 260,\n 'born': 261,\n 'thus': 262,\n 'case': 263,\n 'l': 264,\n 'become': 265,\n 'york': 266,\n 'does': 267,\n 'st': 268,\n 'back': 269,\n 'others': 270,\n 'union': 271,\n 'article': 272,\n 'led': 273,\n 'isbn': 274,\n 'should': 275,\n 'countries': 276,\n 'period': 277,\n 'languages': 278,\n 'k': 279,\n 'line': 280,\n 'various': 281,\n 'systems': 282,\n 'europe': 283,\n 'water': 284,\n 'central': 285,\n 'few': 286,\n 'written': 287,\n 'began': 288,\n 'works': 289,\n 'player': 290,\n 'home': 291,\n 'island': 292,\n 'generally': 293,\n 'must': 294,\n 'air': 295,\n 'best': 296,\n 'less': 297,\n 'original': 298,\n 'control': 299,\n 'western': 300,\n 'school': 301,\n 'according': 302,\n 'similar': 303,\n 'v': 304,\n 'england': 305,\n 'land': 306,\n 'down': 307,\n 'force': 308,\n 'single': 309,\n 'j': 310,\n 'how': 311,\n 'greek': 312,\n 'rather': 313,\n 'groups': 314,\n 'france': 315,\n 'support': 316,\n 'published': 317,\n 'official': 318,\n 'development': 319,\n 'space': 320,\n 'london': 321,\n 'named': 322,\n 'data': 323,\n 'km': 324,\n 'germany': 325,\n 'just': 326,\n 'said': 327,\n 'christian': 328,\n 'black': 329,\n 'short': 330,\n 'empire': 331,\n 'games': 332,\n 'late': 333,\n 'off': 334,\n 'every': 335,\n 'earth': 336,\n 'army': 337,\n 'version': 338,\n 'college': 339,\n 'body': 340,\n 'o': 341,\n 'company': 342,\n 'million': 343,\n 'kingdom': 344,\n 'economic': 345,\n 'social': 346,\n 'either': 347,\n 'service': 348,\n 'along': 349,\n 'america': 350,\n 'sea': 351,\n 'standard': 352,\n 'never': 353,\n 'court': 354,\n 'developed': 355,\n 'held': 356,\n 'result': 357,\n 'field': 358,\n 'means': 359,\n 'today': 360,\n 'light': 361,\n 'battle': 362,\n 'books': 363,\n 'especially': 364,\n 'forces': 365,\n 'society': 366,\n 'further': 367,\n 'third': 368,\n 'character': 369,\n 'team': 370,\n 'take': 371,\n 'men': 372,\n 'republic': 373,\n 'took': 374,\n 'show': 375,\n 'son': 376,\n 'possible': 377,\n 'fact': 378,\n 'good': 379,\n 'himself': 380,\n 'having': 381,\n 'children': 382,\n 'present': 383,\n 'former': 384,\n 'james': 385,\n 'natural': 386,\n 'process': 387,\n 'current': 388,\n 'white': 389,\n 'jewish': 390,\n 'person': 391,\n 'words': 392,\n 'father': 393,\n 'local': 394,\n 'open': 395,\n 'little': 396,\n 'near': 397,\n 'days': 398,\n 'islands': 399,\n 'red': 400,\n 'above': 401,\n 'soviet': 402,\n 'upon': 403,\n 'total': 404,\n 'side': 405,\n 'came': 406,\n 'itself': 407,\n 'seen': 408,\n 'references': 409,\n 'january': 410,\n 'famous': 411,\n 'once': 412,\n 'largest': 413,\n 'press': 414,\n 'full': 415,\n 'culture': 416,\n 'almost': 417,\n 'certain': 418,\n 'level': 419,\n 'created': 420,\n 'river': 421,\n 'play': 422,\n 'religious': 423,\n 'story': 424,\n 'role': 425,\n 'al': 426,\n 'region': 427,\n 'member': 428,\n 'act': 429,\n 'site': 430,\n 'image': 431,\n 'again': 432,\n 'areas': 433,\n 'rights': 434,\n 'numbers': 435,\n 'died': 436,\n 'ancient': 437,\n 'art': 438,\n 'japanese': 439,\n 'view': 440,\n 'william': 441,\n 'movement': 442,\n 'community': 443,\n 'center': 444,\n 'league': 445,\n 'canada': 446,\n 'minister': 447,\n 'played': 448,\n 'foreign': 449,\n 'actor': 450,\n 'related': 451,\n 'council': 452,\n 'energy': 453,\n 'low': 454,\n 'real': 455,\n 'living': 456,\n 'class': 457,\n 'december': 458,\n 'terms': 459,\n 'bc': 460,\n 'change': 461,\n 'production': 462,\n 'type': 463,\n 'george': 464,\n 'civil': 465,\n 'david': 466,\n 'source': 467,\n 'research': 468,\n 'march': 469,\n 'head': 470,\n 'style': 471,\n 'latin': 472,\n 'northern': 473,\n 'position': 474,\n 'july': 475,\n 'program': 476,\n 'produced': 477,\n 'design': 478,\n 'chinese': 479,\n 'w': 480,\n 'software': 481,\n 'making': 482,\n 'next': 483,\n 'charles': 484,\n 'particular': 485,\n 'women': 486,\n 'forms': 487,\n 'available': 488,\n 'established': 489,\n 'television': 490,\n 'far': 491,\n 'released': 492,\n 'special': 493,\n 'middle': 494,\n 'together': 495,\n 'eastern': 496,\n 'china': 497,\n 'hand': 498,\n 'y': 499,\n 'emperor': 500,\n 'code': 501,\n 'instead': 502,\n 'might': 503,\n 'parts': 504,\n 'india': 505,\n 'june': 506,\n 'band': 507,\n 'thought': 508,\n 'least': 509,\n 'built': 510,\n 'prime': 511,\n 'function': 512,\n 'included': 513,\n 'text': 514,\n 'study': 515,\n 'anti': 516,\n 'half': 517,\n 'meaning': 518,\n 'young': 519,\n 'final': 520,\n 'always': 521,\n 'november': 522,\n 'range': 523,\n 'trade': 524,\n 'capital': 525,\n 'per': 526,\n 'taken': 527,\n 'traditional': 528,\n 'august': 529,\n 'economy': 530,\n 'october': 531,\n 'uk': 532,\n 'lost': 533,\n 'spanish': 534,\n 'nature': 535,\n 'wrote': 536,\n 'april': 537,\n 'run': 538,\n 'italian': 539,\n 'project': 540,\n 'live': 541,\n 'catholic': 542,\n 'uses': 543,\n 'addition': 544,\n 'september': 545,\n 'true': 546,\n 'evidence': 547,\n 'jews': 548,\n 'recent': 549,\n 'russian': 550,\n 'effect': 551,\n 'players': 552,\n 'value': 553,\n 'historical': 554,\n 'won': 555,\n 'africa': 556,\n 'radio': 557,\n 'note': 558,\n 'technology': 559,\n 'top': 560,\n 'rule': 561,\n 'model': 562,\n 'southern': 563,\n 'done': 564,\n 'self': 565,\n 'whose': 566,\n 'australia': 567,\n 'influence': 568,\n 'themselves': 569,\n 'particularly': 570,\n 'album': 571,\n 'record': 572,\n 'rate': 573,\n 'irish': 574,\n 'philosophy': 575,\n 'species': 576,\n 'continued': 577,\n 'our': 578,\n 'subject': 579,\n 'star': 580,\n 'japan': 581,\n 'throughout': 582,\n 'love': 583,\n 'below': 584,\n 'structure': 585,\n 'problem': 586,\n 'israel': 587,\n 'writer': 588,\n 'title': 589,\n 'referred': 590,\n 'cases': 591,\n 'author': 592,\n 'rock': 593,\n 'names': 594,\n 'february': 595,\n 'therefore': 596,\n 'education': 597,\n 'whether': 598,\n 'paul': 599,\n 'come': 600,\n 'originally': 601,\n 'nations': 602,\n 'too': 603,\n 'com': 604,\n 'action': 605,\n 'strong': 606,\n 'song': 607,\n 'my': 608,\n 'town': 609,\n 'robert': 610,\n 'higher': 611,\n 'here': 612,\n 'est': 613,\n 'cities': 614,\n 'elements': 615,\n 'independent': 616,\n 'eventually': 617,\n 'market': 618,\n 'network': 619,\n 'described': 620,\n 'characters': 621,\n 'base': 622,\n 'female': 623,\n 'office': 624,\n 'sound': 625,\n 'individual': 626,\n 'problems': 627,\n 'football': 628,\n 'despite': 629,\n 'events': 630,\n 'royal': 631,\n 'parliament': 632,\n 'formed': 633,\n 're': 634,\n 'practice': 635,\n 'fiction': 636,\n 'able': 637,\n 'films': 638,\n 'la': 639,\n 'complex': 640,\n 'commonly': 641,\n 'african': 642,\n 'season': 643,\n 'canadian': 644,\n 'internet': 645,\n 'received': 646,\n 'key': 647,\n 'lower': 648,\n 'leader': 649,\n 'aircraft': 650,\n 'outside': 651,\n 'business': 652,\n 'deaths': 653,\n 'typically': 654,\n 'followed': 655,\n 'page': 656,\n 'basic': 657,\n 'includes': 658,\n 'complete': 659,\n 'henry': 660,\n 'actually': 661,\n 'significant': 662,\n 'legal': 663,\n 'widely': 664,\n 'food': 665,\n 'male': 666,\n 'beginning': 667,\n 'elected': 668,\n 'fire': 669,\n 'news': 670,\n 'ireland': 671,\n 'births': 672,\n 'went': 673,\n 'physical': 674,\n 'future': 675,\n 'ever': 676,\n 'cross': 677,\n 'laws': 678,\n 'scientific': 679,\n 'building': 680,\n 'types': 681,\n 'britain': 682,\n 'method': 683,\n 'material': 684,\n 'cannot': 685,\n 'writing': 686,\n 'get': 687,\n 'independence': 688,\n 'services': 689,\n 'california': 690,\n 'cause': 691,\n 'go': 692,\n 'believe': 693,\n 'close': 694,\n 'post': 695,\n 'simply': 696,\n 'specific': 697,\n 'knowledge': 698,\n 'return': 699,\n 'election': 700,\n 'video': 701,\n 'points': 702,\n 'size': 703,\n 'majority': 704,\n 'lead': 705,\n 'industry': 706,\n 'examples': 707,\n 'personal': 708,\n 'soon': 709,\n 'idea': 710,\n 'lord': 711,\n 'defined': 712,\n 'mass': 713,\n 'introduced': 714,\n 'required': 715,\n 'associated': 716,\n 'sense': 717,\n 'classical': 718,\n 'indian': 719,\n 'believed': 720,\n 'religion': 721,\n 'yet': 722,\n 'county': 723,\n 'co': 724,\n 'organization': 725,\n 'changes': 726,\n 'designed': 727,\n 'away': 728,\n 'policy': 729,\n 'thomas': 730,\n 'blue': 731,\n 'movie': 732,\n 'put': 733,\n 'concept': 734,\n 'started': 735,\n 'find': 736,\n 'mother': 737,\n 'located': 738,\n 'earlier': 739,\n 'features': 740,\n 'studies': 741,\n 'federal': 742,\n 'russia': 743,\n 'working': 744,\n 'sources': 745,\n 'currently': 746,\n 'brought': 747,\n 'online': 748,\n 'attack': 749,\n 'rules': 750,\n 'allowed': 751,\n 'stories': 752,\n 'added': 753,\n 'things': 754,\n 'australian': 755,\n 'career': 756,\n 'across': 757,\n 'object': 758,\n 'association': 759,\n 'founded': 760,\n 'provide': 761,\n 'limited': 762,\n 'greater': 763,\n 'mostly': 764,\n 'constitution': 765,\n 'singer': 766,\n 'killed': 767,\n 'interest': 768,\n 'letters': 769,\n 'me': 770,\n 'relations': 771,\n 'probably': 772,\n 'gave': 773,\n 'past': 774,\n 'letter': 775,\n 'simple': 776,\n 'your': 777,\n 'reference': 778,\n 'ball': 779,\n 'chief': 780,\n 'z': 781,\n 'need': 782,\n 'effects': 783,\n 'growth': 784,\n 'remains': 785,\n 'success': 786,\n 'peace': 787,\n 'security': 788,\n 'media': 789,\n 'novel': 790,\n 'park': 791,\n 'longer': 792,\n 'give': 793,\n 'library': 794,\n 'spain': 795,\n 'say': 796,\n 'night': 797,\n 'holy': 798,\n 'leading': 799,\n 'moved': 800,\n 'wide': 801,\n 'color': 802,\n 'remained': 803,\n 'wife': 804,\n 'dutch': 805,\n 'months': 806,\n 'iii': 807,\n 'better': 808,\n 'prize': 809,\n 'website': 810,\n 'cell': 811,\n 'green': 812,\n 'speed': 813,\n 'becomes': 814,\n 'contains': 815,\n 'big': 816,\n 'dead': 817,\n 'already': 818,\n 'etc': 819,\n 'largely': 820,\n 'politics': 821,\n 'perhaps': 822,\n 'territory': 823,\n 'help': 824,\n 'larger': 825,\n 'appeared': 826,\n 'origin': 827,\n 'lake': 828,\n 'saint': 829,\n 'alexander': 830,\n 'cultural': 831,\n 'asia': 832,\n 'claim': 833,\n 'companies': 834,\n 'actress': 835,\n 'italy': 836,\n 'definition': 837,\n 'whole': 838,\n 'lines': 839,\n 'parties': 840,\n 'refer': 841,\n 'matter': 842,\n 'attempt': 843,\n 'private': 844,\n 'saw': 845,\n 'makes': 846,\n 'era': 847,\n 'richard': 848,\n 'directly': 849,\n 'caused': 850,\n 'separate': 851,\n 'authority': 852,\n 'coast': 853,\n 'turn': 854,\n 'successful': 855,\n 'surface': 856,\n 'literature': 857,\n 'highly': 858,\n 'health': 859,\n 'results': 860,\n 'married': 861,\n 'double': 862,\n 'edition': 863,\n 'towards': 864,\n 'minor': 865,\n 'revolution': 866,\n 'products': 867,\n 'produce': 868,\n 'oil': 869,\n 'date': 870,\n 'division': 871,\n 'primary': 872,\n 'whom': 873,\n 'treaty': 874,\n 'status': 875,\n 'programming': 876,\n 'direct': 877,\n 'nation': 878,\n 'latter': 879,\n 'playing': 880,\n 'native': 881,\n 'basis': 882,\n 'analysis': 883,\n 'enough': 884,\n 'issues': 885,\n 'sun': 886,\n 'queen': 887,\n 'web': 888,\n 'course': 889,\n 'rome': 890,\n 'likely': 891,\n 'exist': 892,\n 'peter': 893,\n 'release': 894,\n 'allow': 895,\n 'reason': 896,\n 'blood': 897,\n 'museum': 898,\n 'machine': 899,\n 'commercial': 900,\n 'provided': 901,\n 'amount': 902,\n 'washington': 903,\n 'gas': 904,\n 'chemical': 905,\n 'money': 906,\n 'jesus': 907,\n 'smaller': 908,\n 'nearly': 909,\n 'digital': 910,\n 'congress': 911,\n 'memory': 912,\n 'replaced': 913,\n 'length': 914,\n 'functions': 915,\n 'claims': 916,\n 'tradition': 917,\n 'divided': 918,\n 'average': 919,\n 'tv': 920,\n 'metal': 921,\n 'degree': 922,\n 'director': 923,\n 'difficult': 924,\n 'served': 925,\n 'read': 926,\n 'baseball': 927,\n 'collection': 928,\n 'property': 929,\n 'ten': 930,\n 'christ': 931,\n 'notable': 932,\n 'claimed': 933,\n 'democratic': 934,\n 'recently': 935,\n 'access': 936,\n 'mid': 937,\n 'michael': 938,\n 'bbc': 939,\n 'finally': 940,\n 'changed': 941,\n 'ground': 942,\n 'elections': 943,\n 'sent': 944,\n 'front': 945,\n 'medical': 946,\n 'highest': 947,\n 'involved': 948,\n 'mark': 949,\n 'records': 950,\n 'liberal': 951,\n 'ideas': 952,\n 'performance': 953,\n 'bwv': 954,\n 'variety': 955,\n 'entire': 956,\n 'schools': 957,\n 'frequently': 958,\n 'animals': 959,\n 'programs': 960,\n 'don': 961,\n 'hard': 962,\n 'section': 963,\n 'club': 964,\n 'methods': 965,\n 'returned': 966,\n 'louis': 967,\n 'discovered': 968,\n 'relatively': 969,\n 'call': 970,\n 'board': 971,\n 'increased': 972,\n 'unit': 973,\n 'students': 974,\n 'relationship': 975,\n 'orthodox': 976,\n 'objects': 977,\n 'bill': 978,\n 'nuclear': 979,\n 'smith': 980,\n 'adopted': 981,\n 'fall': 982,\n 'appear': 983,\n 'assembly': 984,\n 'san': 985,\n 'rest': 986,\n 'appears': 987,\n 'know': 988,\n 'conditions': 989,\n 'hall': 990,\n 'bank': 991,\n 'map': 992,\n 'increase': 993,\n 'element': 994,\n 'existence': 995,\n 'user': 996,\n 'pope': 997,\n 'award': 998,\n 'engine': 999,\n ...}"
      ]
     },
     "execution_count": 30,
     "metadata": {},
     "output_type": "execute_result"
    }
   ],
   "source": [
    "word_to_idx"
   ]
  },
  {
   "cell_type": "code",
   "execution_count": 42,
   "metadata": {
    "collapsed": true
   },
   "outputs": [],
   "source": [
    "class WordEmbeddingDataset(tud.Dataset):\n",
    "    def __init__(self,text,word_to_idx,idx_to_word,word_freqs,word_counts):\n",
    "        super(WordEmbeddingDataset,self).__init__()\n",
    "        self.text_encoded=[word_to_idx.get(word,word_to_idx[\"<unk>\"]) for word in text]\n",
    "        self.text_encoded=torch.LongTensor(self.text_encoded)\n",
    "        self.word_to_idx=word_to_idx\n",
    "        self.idx_to_word=idx_to_word\n",
    "        self.word_feqs=torch.Tensor(word_freqs)\n",
    "        self.word_counts=torch.Tensor(word_counts)\n",
    "    def __len__(self):\n",
    "        return len(self.text_encoded)\n",
    "    def __getitem__(self, idx):\n",
    "        center_word=self.text_encoded[idx]\n",
    "        pos_indices=list(range(idx-C,idx))+list(range(idx+1,idx+C+1))  #window内单词的index\n",
    "        pos_indices={i % len(self.text_encoded) for i in pos_indices}  #取余，放置超出text长度\n",
    "        pos_words=self.text_encoded[pos_indices] #周围单词\n",
    "        neg_words=torch.multinomial(self.word_feqs,K*pos_indices.shape[0],True)  #负例采样\n",
    "        return center_word,pos_words,neg_words"
   ]
  },
  {
   "cell_type": "code",
   "execution_count": 43,
   "metadata": {},
   "outputs": [],
   "source": [
    "dataset=WordEmbeddingDataset(text,word_to_idx,idx_to_word,word_freqs,word_counts)\n",
    "dataLoader=tud.DataLoader(dataset,batch_size=BATCH_SIZE,shuffle=True,num_workers=4)"
   ]
  },
  {
   "cell_type": "code",
   "execution_count": 44,
   "metadata": {},
   "outputs": [
    {
     "data": {
      "text/plain": [
       "tensor([ 5266,  3106,    11,     5,   194,     1,  3079,    45,    59,   154,\n          127,   744,   457, 10524,   135,     0, 25748,     1,     0,   100,\n          866,     2,     0, 16271, 29999,     1,     0,   153,   866,  3539,\n            0,   194,    10,   186,    59,     4,     5, 10679,   215,     6,\n         1354,   104,   429,    19,    59,  2846,   359,     6,  3658,     0,\n          725,     1,   366,    26,    40,    37,    53,   527,    97,    11,\n            5,  1425,  2980,    18,   565,   712,  7095,     0,   252,  5266,\n           10,  1039,    27,     0,   312,   247, 29999,  2947,   780,   179,\n         5266,    11,     5,   199,   575,    10,     0,  1105,    19,  2558,\n           25,  8777,     2,   275,    31,  3989,   142,    58,    25,  6525])"
      ]
     },
     "execution_count": 44,
     "metadata": {},
     "output_type": "execute_result"
    }
   ],
   "source": [
    "dataset.text_encoded[:100]"
   ]
  },
  {
   "cell_type": "code",
   "execution_count": 45,
   "metadata": {},
   "outputs": [],
   "source": [
    ""
   ]
  },
  {
   "cell_type": "code",
   "execution_count": 53,
   "metadata": {},
   "outputs": [],
   "source": [
    "class EmbeddingModel(nn.Module):\n",
    "    def __init__(self):\n",
    "        super(EmbeddingModel,self).__init__()\n",
    "        self.vocab_size=vocab_size\n",
    "        self.embed_size=embed_size\n",
    "        \n",
    "        self.in_embed=nn.Embedding(self.vocab_size,self.embed_size)\n",
    "        self.out_embed=nn.Embedding(self.vocab_size,self.embed_size)\n",
    "    def forward(self,input_labels,pos_labels,neg_labels):\n",
    "        input_embedding=self.in_embed(input_labels)\n",
    "        pos_emdedding=self.in_embed(pos_labels)\n",
    "        neg_emdedding=self.in_embed(input_labels)\n",
    "        \n",
    "        input_embedding=input_embedding.unsquuze(2)\n",
    "        pos_dot=torch.bmm(pos_emdedding,input_embedding).squeeze(2)\n",
    "        neg_dot=torch.bmm(neg_emdedding,-input_embedding).squeeze(2)\n",
    "        \n",
    "        log_pos=F.logsigmoid(pos_dot)\n",
    "        log_neg = torch.bmm(neg_embedding, -input_embedding.unsqueeze(2)).squeeze() # B * (2*C*K)\n",
    "\n",
    "        log_pos = F.logsigmoid(log_pos).sum(1)\n",
    "        log_neg = F.logsigmoid(log_neg).sum(1) # batch_size\n",
    "        loss = log_pos + log_neg\n",
    "        \n",
    "        return -loss\n",
    "    def input_embeddings(self):\n",
    "        return self.in_embed.weight.data.cpu().numpy()"
   ]
  },
  {
   "cell_type": "code",
   "execution_count": 45,
   "metadata": {},
   "outputs": [],
   "source": [
    ""
   ]
  },
  {
   "cell_type": "code",
   "execution_count": 49,
   "metadata": {},
   "outputs": [],
   "source": [
    ""
   ]
  },
  {
   "cell_type": "code",
   "execution_count": 50,
   "metadata": {},
   "outputs": [
    {
     "data": {
      "text/plain": [
       "tensor([[[-1.6091, -1.1660, -1.0748],\n         [ 1.3168, -0.6818, -0.2223],\n         [-0.5710,  0.0135,  0.1578],\n         [-0.7735,  0.1991,  0.0457],\n         [-0.5710,  0.0135,  0.1578],\n         [ 1.6871,  0.2284,  0.4676],\n         [ 1.3168, -0.6818, -0.2223],\n         [-0.6298,  2.4070,  0.2786]]], grad_fn=<EmbeddingBackward>)"
      ]
     },
     "execution_count": 50,
     "metadata": {},
     "output_type": "execute_result"
    }
   ],
   "source": [
    ""
   ]
  },
  {
   "cell_type": "code",
   "execution_count": 53,
   "metadata": {},
   "outputs": [],
   "source": [
    ""
   ]
  },
  {
   "cell_type": "code",
   "execution_count": null,
   "metadata": {},
   "outputs": [],
   "source": []
  },
  {
   "cell_type": "code",
   "execution_count": null,
   "metadata": {},
   "outputs": [],
   "source": []
  },
  {
   "cell_type": "code",
   "execution_count": null,
   "metadata": {},
   "outputs": [],
   "source": []
  },
  {
   "cell_type": "code",
   "execution_count": null,
   "metadata": {},
   "outputs": [],
   "source": []
  }
 ],
 "metadata": {
  "kernelspec": {
   "display_name": "Python 2",
   "language": "python",
   "name": "python2"
  },
  "language_info": {
   "codemirror_mode": {
    "name": "ipython",
    "version": 2
   },
   "file_extension": ".py",
   "mimetype": "text/x-python",
   "name": "python",
   "nbconvert_exporter": "python",
   "pygments_lexer": "ipython2",
   "version": "2.7.6"
  }
 },
 "nbformat": 4,
 "nbformat_minor": 0
}
